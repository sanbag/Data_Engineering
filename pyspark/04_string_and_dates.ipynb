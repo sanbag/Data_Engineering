{
 "cells": [
  {
   "cell_type": "code",
   "execution_count": 2,
   "id": "539e8e0a-43c8-4df5-9b93-e7a8986355df",
   "metadata": {},
   "outputs": [],
   "source": [
    "from pyspark.sql import SparkSession\n",
    "from pyspark.sql.types import *\n",
    "from pyspark.sql.functions import *"
   ]
  },
  {
   "cell_type": "code",
   "execution_count": 5,
   "id": "ccafa43d-0d38-4ae8-9538-091d9450a2a3",
   "metadata": {},
   "outputs": [],
   "source": [
    "spark = SparkSession.builder.appName('String_dates').getOrCreate()"
   ]
  },
  {
   "cell_type": "code",
   "execution_count": 6,
   "id": "b7a8b5e8-e01f-4929-b92c-0194230b614a",
   "metadata": {},
   "outputs": [],
   "source": [
    "# Emp Data & Schema\n",
    "\n",
    "emp_data = [\n",
    "    [\"001\",\"101\",\"John Doe\",\"30\",\"Male\",\"50000\",\"2015-01-01\"],\n",
    "    [\"002\",\"101\",\"Jane Smith\",\"25\",\"Female\",\"45000\",\"2016-02-15\"],\n",
    "    [\"003\",\"102\",\"Bob Brown\",\"35\",\"Male\",\"55000\",\"2014-05-01\"],\n",
    "    [\"004\",\"102\",\"Alice Lee\",\"28\",\"Female\",\"48000\",\"2017-09-30\"],\n",
    "    [\"005\",\"103\",\"Jack Chan\",\"40\",\"Male\",\"60000\",\"2013-04-01\"],\n",
    "    [\"006\",\"103\",\"Jill Wong\",\"32\",\"Female\",\"52000\",\"2018-07-01\"],\n",
    "    [\"007\",\"101\",\"James Johnson\",\"42\",\"Male\",\"70000\",\"2012-03-15\"],\n",
    "    [\"008\",\"102\",\"Kate Kim\",\"29\",\"Female\",\"51000\",\"2019-10-01\"],\n",
    "    [\"009\",\"103\",\"Tom Tan\",\"33\",\"Male\",\"58000\",\"2016-06-01\"],\n",
    "    [\"010\",\"104\",\"Lisa Lee\",\"27\",\"Female\",\"47000\",\"2018-08-01\"],\n",
    "    [\"011\",\"104\",\"David Park\",\"38\",\"Male\",\"65000\",\"2015-11-01\"],\n",
    "    [\"012\",\"105\",\"Susan Chen\",\"31\",\"Female\",\"54000\",\"2017-02-15\"],\n",
    "    [\"013\",\"106\",\"Brian Kim\",\"45\",\"Male\",\"75000\",\"2011-07-01\"],\n",
    "    [\"014\",\"107\",\"Emily Lee\",\"26\",\"Female\",\"46000\",\"2019-01-01\"],\n",
    "    [\"015\",\"106\",\"Michael Lee\",\"37\",\"Male\",\"63000\",\"2014-09-30\"],\n",
    "    [\"016\",\"107\",\"Kelly Zhang\",\"30\",\"Female\",\"49000\",\"2018-04-01\"],\n",
    "    [\"017\",\"105\",\"George Wang\",\"34\",\"Male\",\"57000\",\"2016-03-15\"],\n",
    "    [\"018\",\"104\",\"Nancy Liu\",\"29\",\"\",\"50000\",\"2017-06-01\"],\n",
    "    [\"019\",\"103\",\"Steven Chen\",\"36\",\"Male\",\"62000\",\"2015-08-01\"],\n",
    "    [\"020\",\"102\",\"Grace Kim\",\"32\",\"Female\",\"53000\",\"2018-11-01\"]\n",
    "]\n",
    "\n",
    "emp_schema = \"employee_id string, department_id string, name string, age string, gender string, salary string, hire_date string\""
   ]
  },
  {
   "cell_type": "code",
   "execution_count": 7,
   "id": "68a351d1-2333-4905-af31-06bb07068014",
   "metadata": {},
   "outputs": [],
   "source": [
    "# Create emp DataFrame\n",
    "\n",
    "emp = spark.createDataFrame(data=emp_data, schema=emp_schema)"
   ]
  },
  {
   "cell_type": "code",
   "execution_count": 8,
   "id": "3ce68766-1270-4c16-88b2-9270ec7520bc",
   "metadata": {},
   "outputs": [
    {
     "name": "stdout",
     "output_type": "stream",
     "text": [
      "+-----------+-------------+-------------+---+------+------+----------+\n",
      "|employee_id|department_id|         name|age|gender|salary| hire_date|\n",
      "+-----------+-------------+-------------+---+------+------+----------+\n",
      "|        001|          101|     John Doe| 30|  Male| 50000|2015-01-01|\n",
      "|        002|          101|   Jane Smith| 25|Female| 45000|2016-02-15|\n",
      "|        003|          102|    Bob Brown| 35|  Male| 55000|2014-05-01|\n",
      "|        004|          102|    Alice Lee| 28|Female| 48000|2017-09-30|\n",
      "|        005|          103|    Jack Chan| 40|  Male| 60000|2013-04-01|\n",
      "|        006|          103|    Jill Wong| 32|Female| 52000|2018-07-01|\n",
      "|        007|          101|James Johnson| 42|  Male| 70000|2012-03-15|\n",
      "|        008|          102|     Kate Kim| 29|Female| 51000|2019-10-01|\n",
      "|        009|          103|      Tom Tan| 33|  Male| 58000|2016-06-01|\n",
      "|        010|          104|     Lisa Lee| 27|Female| 47000|2018-08-01|\n",
      "|        011|          104|   David Park| 38|  Male| 65000|2015-11-01|\n",
      "|        012|          105|   Susan Chen| 31|Female| 54000|2017-02-15|\n",
      "|        013|          106|    Brian Kim| 45|  Male| 75000|2011-07-01|\n",
      "|        014|          107|    Emily Lee| 26|Female| 46000|2019-01-01|\n",
      "|        015|          106|  Michael Lee| 37|  Male| 63000|2014-09-30|\n",
      "|        016|          107|  Kelly Zhang| 30|Female| 49000|2018-04-01|\n",
      "|        017|          105|  George Wang| 34|  Male| 57000|2016-03-15|\n",
      "|        018|          104|    Nancy Liu| 29|      | 50000|2017-06-01|\n",
      "|        019|          103|  Steven Chen| 36|  Male| 62000|2015-08-01|\n",
      "|        020|          102|    Grace Kim| 32|Female| 53000|2018-11-01|\n",
      "+-----------+-------------+-------------+---+------+------+----------+\n",
      "\n"
     ]
    }
   ],
   "source": [
    "emp.show()"
   ]
  },
  {
   "cell_type": "code",
   "execution_count": 11,
   "id": "ec281d9c-401f-41ea-8234-263ece8ff41a",
   "metadata": {},
   "outputs": [],
   "source": [
    "# Case When\n",
    "# select employee_id, name, age, salary, gender,\n",
    "# case when gender = 'Male' then 'M' when gender = 'Female' then 'F' else null end as new_gender, hire_date from emp\n",
    "\n",
    "\n",
    "emp_gender_fixed = emp.withColumn('new_gender', when (col('gender')=='Male','M')\n",
    "                                                .when (col('gender')=='Female','F')\n",
    "                                                 .otherwise(None))\n",
    "\n",
    "emp_gender_fixed_1 = emp.withColumn(\"new_gender\",expr(\"case when gender = 'Male' then 'M' when gender = 'Female' then 'F' else null end\"))"
   ]
  },
  {
   "cell_type": "code",
   "execution_count": 12,
   "id": "2b9ffd14-fb8d-4814-88a2-24e9d89db65e",
   "metadata": {},
   "outputs": [
    {
     "name": "stdout",
     "output_type": "stream",
     "text": [
      "+-----------+-------------+----------+---+------+------+----------+----------+\n",
      "|employee_id|department_id|      name|age|gender|salary| hire_date|new_gender|\n",
      "+-----------+-------------+----------+---+------+------+----------+----------+\n",
      "|        001|          101|  John Doe| 30|  Male| 50000|2015-01-01|         M|\n",
      "|        002|          101|Jane Smith| 25|Female| 45000|2016-02-15|         F|\n",
      "|        003|          102| Bob Brown| 35|  Male| 55000|2014-05-01|         M|\n",
      "|        004|          102| Alice Lee| 28|Female| 48000|2017-09-30|         F|\n",
      "|        005|          103| Jack Chan| 40|  Male| 60000|2013-04-01|         M|\n",
      "+-----------+-------------+----------+---+------+------+----------+----------+\n",
      "only showing top 5 rows\n",
      "\n"
     ]
    }
   ],
   "source": [
    "emp_gender_fixed_1.show(5)"
   ]
  },
  {
   "cell_type": "code",
   "execution_count": 14,
   "id": "03675f6b-ff7a-4ea8-a4b6-b03b71cffd6c",
   "metadata": {},
   "outputs": [],
   "source": [
    "# Replace in Strings\n",
    "# select employee_id, name, replace(name, 'J', 'Z') as new_name, age, salary, gender, new_gender, hire_date from emp_gender_fixed\n",
    "\n",
    "emp_name_fixed = emp_gender_fixed.withColumn('new_name',regexp_replace('name','J','Z'))"
   ]
  },
  {
   "cell_type": "code",
   "execution_count": 16,
   "id": "4e57f445-419d-41d9-a5f7-23235960d0d5",
   "metadata": {},
   "outputs": [
    {
     "name": "stdout",
     "output_type": "stream",
     "text": [
      "+-----------+-------------+-------------+---+------+------+----------+----------+-------------+\n",
      "|employee_id|department_id|         name|age|gender|salary| hire_date|new_gender|     new_name|\n",
      "+-----------+-------------+-------------+---+------+------+----------+----------+-------------+\n",
      "|        001|          101|     John Doe| 30|  Male| 50000|2015-01-01|         M|     Zohn Doe|\n",
      "|        002|          101|   Jane Smith| 25|Female| 45000|2016-02-15|         F|   Zane Smith|\n",
      "|        003|          102|    Bob Brown| 35|  Male| 55000|2014-05-01|         M|    Bob Brown|\n",
      "|        004|          102|    Alice Lee| 28|Female| 48000|2017-09-30|         F|    Alice Lee|\n",
      "|        005|          103|    Jack Chan| 40|  Male| 60000|2013-04-01|         M|    Zack Chan|\n",
      "|        006|          103|    Jill Wong| 32|Female| 52000|2018-07-01|         F|    Zill Wong|\n",
      "|        007|          101|James Johnson| 42|  Male| 70000|2012-03-15|         M|Zames Zohnson|\n",
      "|        008|          102|     Kate Kim| 29|Female| 51000|2019-10-01|         F|     Kate Kim|\n",
      "|        009|          103|      Tom Tan| 33|  Male| 58000|2016-06-01|         M|      Tom Tan|\n",
      "|        010|          104|     Lisa Lee| 27|Female| 47000|2018-08-01|         F|     Lisa Lee|\n",
      "|        011|          104|   David Park| 38|  Male| 65000|2015-11-01|         M|   David Park|\n",
      "|        012|          105|   Susan Chen| 31|Female| 54000|2017-02-15|         F|   Susan Chen|\n",
      "|        013|          106|    Brian Kim| 45|  Male| 75000|2011-07-01|         M|    Brian Kim|\n",
      "|        014|          107|    Emily Lee| 26|Female| 46000|2019-01-01|         F|    Emily Lee|\n",
      "|        015|          106|  Michael Lee| 37|  Male| 63000|2014-09-30|         M|  Michael Lee|\n",
      "|        016|          107|  Kelly Zhang| 30|Female| 49000|2018-04-01|         F|  Kelly Zhang|\n",
      "|        017|          105|  George Wang| 34|  Male| 57000|2016-03-15|         M|  George Wang|\n",
      "|        018|          104|    Nancy Liu| 29|      | 50000|2017-06-01|      null|    Nancy Liu|\n",
      "|        019|          103|  Steven Chen| 36|  Male| 62000|2015-08-01|         M|  Steven Chen|\n",
      "|        020|          102|    Grace Kim| 32|Female| 53000|2018-11-01|         F|    Grace Kim|\n",
      "+-----------+-------------+-------------+---+------+------+----------+----------+-------------+\n",
      "\n"
     ]
    }
   ],
   "source": [
    "emp_name_fixed.show()"
   ]
  },
  {
   "cell_type": "code",
   "execution_count": 18,
   "id": "b3425e94-5906-4d5e-9daf-c5cdad2a1457",
   "metadata": {},
   "outputs": [
    {
     "name": "stdout",
     "output_type": "stream",
     "text": [
      "root\n",
      " |-- employee_id: string (nullable = true)\n",
      " |-- department_id: string (nullable = true)\n",
      " |-- name: string (nullable = true)\n",
      " |-- age: string (nullable = true)\n",
      " |-- gender: string (nullable = true)\n",
      " |-- salary: string (nullable = true)\n",
      " |-- hire_date: string (nullable = true)\n",
      " |-- new_gender: string (nullable = true)\n",
      " |-- new_name: string (nullable = true)\n",
      "\n"
     ]
    }
   ],
   "source": [
    "# Convert Date\n",
    "# select *,  to_date(hire_date, 'YYYY-MM-DD') as hire_date from emp_name_fixed\n",
    "\n",
    "emp_name_fixed.printSchema()"
   ]
  },
  {
   "cell_type": "code",
   "execution_count": 19,
   "id": "d4a9156e-3659-4dc7-a117-f71f6081faae",
   "metadata": {},
   "outputs": [],
   "source": [
    "emp_date_fix = emp_name_fixed.withColumn('hire_date',to_date('hire_date','yyyy-MM-dd'))"
   ]
  },
  {
   "cell_type": "code",
   "execution_count": 21,
   "id": "c58242d1-7958-4544-a676-755bc8b9eac2",
   "metadata": {},
   "outputs": [
    {
     "name": "stdout",
     "output_type": "stream",
     "text": [
      "root\n",
      " |-- employee_id: string (nullable = true)\n",
      " |-- department_id: string (nullable = true)\n",
      " |-- name: string (nullable = true)\n",
      " |-- age: string (nullable = true)\n",
      " |-- gender: string (nullable = true)\n",
      " |-- salary: string (nullable = true)\n",
      " |-- hire_date: date (nullable = true)\n",
      " |-- new_gender: string (nullable = true)\n",
      " |-- new_name: string (nullable = true)\n",
      "\n"
     ]
    }
   ],
   "source": [
    "emp_date_fix.printSchema()"
   ]
  },
  {
   "cell_type": "code",
   "execution_count": 24,
   "id": "16d4410e-c632-45b9-8751-3a11a33faaf2",
   "metadata": {},
   "outputs": [],
   "source": [
    "new_columns ={\n",
    "'date_now': current_date(),\n",
    "'timestamp_now':current_timestamp()\n",
    "}"
   ]
  },
  {
   "cell_type": "code",
   "execution_count": 25,
   "id": "2e0f4af9-0a15-41f3-b154-faa2ee612dc2",
   "metadata": {},
   "outputs": [],
   "source": [
    "emp_dated = emp_date_fix.withColumns(new_columns)"
   ]
  },
  {
   "cell_type": "code",
   "execution_count": 28,
   "id": "9e12b8bf-06a5-461c-a8c3-6a3e6d658d2e",
   "metadata": {},
   "outputs": [
    {
     "name": "stdout",
     "output_type": "stream",
     "text": [
      "+-----------+-------------+-------------+---+------+------+----------+----------+-------------+----------+--------------------------+\n",
      "|employee_id|department_id|name         |age|gender|salary|hire_date |new_gender|new_name     |date_now  |timestamp_now             |\n",
      "+-----------+-------------+-------------+---+------+------+----------+----------+-------------+----------+--------------------------+\n",
      "|001        |101          |John Doe     |30 |Male  |50000 |2015-01-01|M         |Zohn Doe     |2024-09-19|2024-09-19 15:18:23.440546|\n",
      "|002        |101          |Jane Smith   |25 |Female|45000 |2016-02-15|F         |Zane Smith   |2024-09-19|2024-09-19 15:18:23.440546|\n",
      "|003        |102          |Bob Brown    |35 |Male  |55000 |2014-05-01|M         |Bob Brown    |2024-09-19|2024-09-19 15:18:23.440546|\n",
      "|004        |102          |Alice Lee    |28 |Female|48000 |2017-09-30|F         |Alice Lee    |2024-09-19|2024-09-19 15:18:23.440546|\n",
      "|005        |103          |Jack Chan    |40 |Male  |60000 |2013-04-01|M         |Zack Chan    |2024-09-19|2024-09-19 15:18:23.440546|\n",
      "|006        |103          |Jill Wong    |32 |Female|52000 |2018-07-01|F         |Zill Wong    |2024-09-19|2024-09-19 15:18:23.440546|\n",
      "|007        |101          |James Johnson|42 |Male  |70000 |2012-03-15|M         |Zames Zohnson|2024-09-19|2024-09-19 15:18:23.440546|\n",
      "|008        |102          |Kate Kim     |29 |Female|51000 |2019-10-01|F         |Kate Kim     |2024-09-19|2024-09-19 15:18:23.440546|\n",
      "|009        |103          |Tom Tan      |33 |Male  |58000 |2016-06-01|M         |Tom Tan      |2024-09-19|2024-09-19 15:18:23.440546|\n",
      "|010        |104          |Lisa Lee     |27 |Female|47000 |2018-08-01|F         |Lisa Lee     |2024-09-19|2024-09-19 15:18:23.440546|\n",
      "|011        |104          |David Park   |38 |Male  |65000 |2015-11-01|M         |David Park   |2024-09-19|2024-09-19 15:18:23.440546|\n",
      "|012        |105          |Susan Chen   |31 |Female|54000 |2017-02-15|F         |Susan Chen   |2024-09-19|2024-09-19 15:18:23.440546|\n",
      "|013        |106          |Brian Kim    |45 |Male  |75000 |2011-07-01|M         |Brian Kim    |2024-09-19|2024-09-19 15:18:23.440546|\n",
      "|014        |107          |Emily Lee    |26 |Female|46000 |2019-01-01|F         |Emily Lee    |2024-09-19|2024-09-19 15:18:23.440546|\n",
      "|015        |106          |Michael Lee  |37 |Male  |63000 |2014-09-30|M         |Michael Lee  |2024-09-19|2024-09-19 15:18:23.440546|\n",
      "|016        |107          |Kelly Zhang  |30 |Female|49000 |2018-04-01|F         |Kelly Zhang  |2024-09-19|2024-09-19 15:18:23.440546|\n",
      "|017        |105          |George Wang  |34 |Male  |57000 |2016-03-15|M         |George Wang  |2024-09-19|2024-09-19 15:18:23.440546|\n",
      "|018        |104          |Nancy Liu    |29 |      |50000 |2017-06-01|null      |Nancy Liu    |2024-09-19|2024-09-19 15:18:23.440546|\n",
      "|019        |103          |Steven Chen  |36 |Male  |62000 |2015-08-01|M         |Steven Chen  |2024-09-19|2024-09-19 15:18:23.440546|\n",
      "|020        |102          |Grace Kim    |32 |Female|53000 |2018-11-01|F         |Grace Kim    |2024-09-19|2024-09-19 15:18:23.440546|\n",
      "+-----------+-------------+-------------+---+------+------+----------+----------+-------------+----------+--------------------------+\n",
      "\n"
     ]
    }
   ],
   "source": [
    "emp_dated.show(truncate=False)"
   ]
  },
  {
   "cell_type": "code",
   "execution_count": 29,
   "id": "1d4c3899-49fa-47ac-8942-eb551d5836a1",
   "metadata": {},
   "outputs": [],
   "source": [
    "# Drop Null gender records\n",
    "emp_1 = emp_dated.dropna()\n"
   ]
  },
  {
   "cell_type": "code",
   "execution_count": 30,
   "id": "164000b3-fc35-4ea8-bb82-85ef0ffe1710",
   "metadata": {},
   "outputs": [],
   "source": [
    "# 2. Drop rows where specific columns contain null:\n",
    "# emp_dated = emp_dated.dropna(subset=[\"column1\", \"column2\"])\n",
    "\n",
    "\n",
    "# 3. Drop rows where all columns are null:\n",
    "# emp_dated = emp_dated.dropna(how=\"all\")\n",
    "\n",
    "\n",
    "# 4. Drop rows where threshold number of non-null values are not met:\n",
    "# emp_dated = emp_dated.dropna(thresh=2)  # Keep rows with at least 2 non-null values\n"
   ]
  },
  {
   "cell_type": "code",
   "execution_count": 32,
   "id": "6a7570f7-b3f2-406b-9d14-8e5c6e83cb5f",
   "metadata": {},
   "outputs": [],
   "source": [
    "# Fix Null values\n",
    "# select *, nvl('new_gender', 'O') as new_gender from emp_dated\n",
    "\n",
    "emp_null_df= emp_dated.withColumn('new_gender',coalesce(col('new_gender'),lit('o')))"
   ]
  },
  {
   "cell_type": "code",
   "execution_count": 33,
   "id": "386838aa-ff5f-403e-9027-ec149cdc4764",
   "metadata": {},
   "outputs": [
    {
     "name": "stdout",
     "output_type": "stream",
     "text": [
      "+-----------+-------------+-------------+---+------+------+----------+----------+-------------+----------+--------------------+\n",
      "|employee_id|department_id|         name|age|gender|salary| hire_date|new_gender|     new_name|  date_now|       timestamp_now|\n",
      "+-----------+-------------+-------------+---+------+------+----------+----------+-------------+----------+--------------------+\n",
      "|        001|          101|     John Doe| 30|  Male| 50000|2015-01-01|         M|     Zohn Doe|2024-09-19|2024-09-19 15:30:...|\n",
      "|        002|          101|   Jane Smith| 25|Female| 45000|2016-02-15|         F|   Zane Smith|2024-09-19|2024-09-19 15:30:...|\n",
      "|        003|          102|    Bob Brown| 35|  Male| 55000|2014-05-01|         M|    Bob Brown|2024-09-19|2024-09-19 15:30:...|\n",
      "|        004|          102|    Alice Lee| 28|Female| 48000|2017-09-30|         F|    Alice Lee|2024-09-19|2024-09-19 15:30:...|\n",
      "|        005|          103|    Jack Chan| 40|  Male| 60000|2013-04-01|         M|    Zack Chan|2024-09-19|2024-09-19 15:30:...|\n",
      "|        006|          103|    Jill Wong| 32|Female| 52000|2018-07-01|         F|    Zill Wong|2024-09-19|2024-09-19 15:30:...|\n",
      "|        007|          101|James Johnson| 42|  Male| 70000|2012-03-15|         M|Zames Zohnson|2024-09-19|2024-09-19 15:30:...|\n",
      "|        008|          102|     Kate Kim| 29|Female| 51000|2019-10-01|         F|     Kate Kim|2024-09-19|2024-09-19 15:30:...|\n",
      "|        009|          103|      Tom Tan| 33|  Male| 58000|2016-06-01|         M|      Tom Tan|2024-09-19|2024-09-19 15:30:...|\n",
      "|        010|          104|     Lisa Lee| 27|Female| 47000|2018-08-01|         F|     Lisa Lee|2024-09-19|2024-09-19 15:30:...|\n",
      "|        011|          104|   David Park| 38|  Male| 65000|2015-11-01|         M|   David Park|2024-09-19|2024-09-19 15:30:...|\n",
      "|        012|          105|   Susan Chen| 31|Female| 54000|2017-02-15|         F|   Susan Chen|2024-09-19|2024-09-19 15:30:...|\n",
      "|        013|          106|    Brian Kim| 45|  Male| 75000|2011-07-01|         M|    Brian Kim|2024-09-19|2024-09-19 15:30:...|\n",
      "|        014|          107|    Emily Lee| 26|Female| 46000|2019-01-01|         F|    Emily Lee|2024-09-19|2024-09-19 15:30:...|\n",
      "|        015|          106|  Michael Lee| 37|  Male| 63000|2014-09-30|         M|  Michael Lee|2024-09-19|2024-09-19 15:30:...|\n",
      "|        016|          107|  Kelly Zhang| 30|Female| 49000|2018-04-01|         F|  Kelly Zhang|2024-09-19|2024-09-19 15:30:...|\n",
      "|        017|          105|  George Wang| 34|  Male| 57000|2016-03-15|         M|  George Wang|2024-09-19|2024-09-19 15:30:...|\n",
      "|        018|          104|    Nancy Liu| 29|      | 50000|2017-06-01|         o|    Nancy Liu|2024-09-19|2024-09-19 15:30:...|\n",
      "|        019|          103|  Steven Chen| 36|  Male| 62000|2015-08-01|         M|  Steven Chen|2024-09-19|2024-09-19 15:30:...|\n",
      "|        020|          102|    Grace Kim| 32|Female| 53000|2018-11-01|         F|    Grace Kim|2024-09-19|2024-09-19 15:30:...|\n",
      "+-----------+-------------+-------------+---+------+------+----------+----------+-------------+----------+--------------------+\n",
      "\n"
     ]
    }
   ],
   "source": [
    "emp_null_df.show()"
   ]
  },
  {
   "cell_type": "code",
   "execution_count": 34,
   "id": "93e4d500-d7e2-4634-9fb1-ea241a10aa9f",
   "metadata": {},
   "outputs": [],
   "source": [
    "emp_final = emp_null_df.drop(\"name\", \"gender\").withColumnRenamed()"
   ]
  },
  {
   "cell_type": "code",
   "execution_count": 35,
   "id": "c7e64d1d-b646-4953-b7ac-201c54d487c8",
   "metadata": {},
   "outputs": [],
   "source": [
    "column_renames = {\"name\": \"new_name\", \"gender\": \"new_gender\"}"
   ]
  },
  {
   "cell_type": "code",
   "execution_count": 36,
   "id": "f3902bcd-66d3-4303-a120-857367dfc59f",
   "metadata": {},
   "outputs": [],
   "source": [
    "for old_name,new_name in column_renames.items():\n",
    "    emp_final = emp_final.withColumnRenamed(old_name,new_name)"
   ]
  },
  {
   "cell_type": "code",
   "execution_count": 38,
   "id": "68cb1cbb-4ead-48ab-ab5e-5b28de5477ee",
   "metadata": {},
   "outputs": [
    {
     "name": "stdout",
     "output_type": "stream",
     "text": [
      "+-----------+-------------+---+------+----------+----------+-------------+----------+--------------------+\n",
      "|employee_id|department_id|age|salary| hire_date|new_gender|     new_name|  date_now|       timestamp_now|\n",
      "+-----------+-------------+---+------+----------+----------+-------------+----------+--------------------+\n",
      "|        001|          101| 30| 50000|2015-01-01|         M|     Zohn Doe|2024-09-19|2024-09-19 15:36:...|\n",
      "|        002|          101| 25| 45000|2016-02-15|         F|   Zane Smith|2024-09-19|2024-09-19 15:36:...|\n",
      "|        003|          102| 35| 55000|2014-05-01|         M|    Bob Brown|2024-09-19|2024-09-19 15:36:...|\n",
      "|        004|          102| 28| 48000|2017-09-30|         F|    Alice Lee|2024-09-19|2024-09-19 15:36:...|\n",
      "|        005|          103| 40| 60000|2013-04-01|         M|    Zack Chan|2024-09-19|2024-09-19 15:36:...|\n",
      "|        006|          103| 32| 52000|2018-07-01|         F|    Zill Wong|2024-09-19|2024-09-19 15:36:...|\n",
      "|        007|          101| 42| 70000|2012-03-15|         M|Zames Zohnson|2024-09-19|2024-09-19 15:36:...|\n",
      "|        008|          102| 29| 51000|2019-10-01|         F|     Kate Kim|2024-09-19|2024-09-19 15:36:...|\n",
      "|        009|          103| 33| 58000|2016-06-01|         M|      Tom Tan|2024-09-19|2024-09-19 15:36:...|\n",
      "|        010|          104| 27| 47000|2018-08-01|         F|     Lisa Lee|2024-09-19|2024-09-19 15:36:...|\n",
      "|        011|          104| 38| 65000|2015-11-01|         M|   David Park|2024-09-19|2024-09-19 15:36:...|\n",
      "|        012|          105| 31| 54000|2017-02-15|         F|   Susan Chen|2024-09-19|2024-09-19 15:36:...|\n",
      "|        013|          106| 45| 75000|2011-07-01|         M|    Brian Kim|2024-09-19|2024-09-19 15:36:...|\n",
      "|        014|          107| 26| 46000|2019-01-01|         F|    Emily Lee|2024-09-19|2024-09-19 15:36:...|\n",
      "|        015|          106| 37| 63000|2014-09-30|         M|  Michael Lee|2024-09-19|2024-09-19 15:36:...|\n",
      "|        016|          107| 30| 49000|2018-04-01|         F|  Kelly Zhang|2024-09-19|2024-09-19 15:36:...|\n",
      "|        017|          105| 34| 57000|2016-03-15|         M|  George Wang|2024-09-19|2024-09-19 15:36:...|\n",
      "|        018|          104| 29| 50000|2017-06-01|         o|    Nancy Liu|2024-09-19|2024-09-19 15:36:...|\n",
      "|        019|          103| 36| 62000|2015-08-01|         M|  Steven Chen|2024-09-19|2024-09-19 15:36:...|\n",
      "|        020|          102| 32| 53000|2018-11-01|         F|    Grace Kim|2024-09-19|2024-09-19 15:36:...|\n",
      "+-----------+-------------+---+------+----------+----------+-------------+----------+--------------------+\n",
      "\n"
     ]
    }
   ],
   "source": [
    "emp_final.show()"
   ]
  },
  {
   "cell_type": "code",
   "execution_count": 40,
   "id": "401fc0c5-3bc5-4f33-90a1-b3504412b109",
   "metadata": {},
   "outputs": [],
   "source": [
    "emp_final.repartition(1).write.mode('overwrite').option('header',True).format(\"csv\").save(\"san\")"
   ]
  },
  {
   "cell_type": "code",
   "execution_count": null,
   "id": "b06a91ca-a7cf-4e78-8690-a575a6f9b587",
   "metadata": {},
   "outputs": [],
   "source": []
  }
 ],
 "metadata": {
  "kernelspec": {
   "display_name": "Python 3 (ipykernel)",
   "language": "python",
   "name": "python3"
  },
  "language_info": {
   "codemirror_mode": {
    "name": "ipython",
    "version": 3
   },
   "file_extension": ".py",
   "mimetype": "text/x-python",
   "name": "python",
   "nbconvert_exporter": "python",
   "pygments_lexer": "ipython3",
   "version": "3.10.6"
  }
 },
 "nbformat": 4,
 "nbformat_minor": 5
}
