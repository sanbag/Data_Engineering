{
 "cells": [
  {
   "cell_type": "code",
   "execution_count": 8,
   "id": "9c528407-e9d1-4729-bf58-9b35ed95e7f2",
   "metadata": {},
   "outputs": [],
   "source": [
    "from pyspark.sql import SparkSession\n",
    "\n",
    "from pyspark.sql.functions import *\n",
    "from pyspark.sql.types import *"
   ]
  },
  {
   "cell_type": "code",
   "execution_count": 9,
   "id": "8394f911-aff3-48a8-90c8-16ed27f5b2c5",
   "metadata": {},
   "outputs": [],
   "source": [
    "spark = (\n",
    "SparkSession\n",
    "    .builder\n",
    "    .appName('spark intro')\n",
    "    .master('local[*]')\n",
    "    .getOrCreate()\n",
    ")"
   ]
  },
  {
   "cell_type": "code",
   "execution_count": 10,
   "id": "eb7f2525-7b4c-49ff-9d6d-7e0a17ad1e83",
   "metadata": {},
   "outputs": [
    {
     "data": {
      "text/html": [
       "\n",
       "            <div>\n",
       "                <p><b>SparkSession - in-memory</b></p>\n",
       "                \n",
       "        <div>\n",
       "            <p><b>SparkContext</b></p>\n",
       "\n",
       "            <p><a href=\"http://28f46cac0dba:4041\">Spark UI</a></p>\n",
       "\n",
       "            <dl>\n",
       "              <dt>Version</dt>\n",
       "                <dd><code>v3.3.0</code></dd>\n",
       "              <dt>Master</dt>\n",
       "                <dd><code>local[*]</code></dd>\n",
       "              <dt>AppName</dt>\n",
       "                <dd><code>spark intro</code></dd>\n",
       "            </dl>\n",
       "        </div>\n",
       "        \n",
       "            </div>\n",
       "        "
      ],
      "text/plain": [
       "<pyspark.sql.session.SparkSession at 0x7fa87ed0a350>"
      ]
     },
     "execution_count": 10,
     "metadata": {},
     "output_type": "execute_result"
    }
   ],
   "source": [
    "spark\n"
   ]
  },
  {
   "cell_type": "code",
   "execution_count": 11,
   "id": "0f3db15f-dd9f-4e37-a4a4-707ae8ce7ee6",
   "metadata": {},
   "outputs": [],
   "source": [
    "emp_data = [\n",
    "    [\"001\",\"101\",\"John Doe\",\"30\",\"Male\",\"50000\",\"2015-01-01\"],\n",
    "    [\"002\",\"101\",\"Jane Smith\",\"25\",\"Female\",\"45000\",\"2016-02-15\"],\n",
    "    [\"003\",\"102\",\"Bob Brown\",\"35\",\"Male\",\"55000\",\"2014-05-01\"],\n",
    "    [\"004\",\"102\",\"Alice Lee\",\"28\",\"Female\",\"48000\",\"2017-09-30\"],\n",
    "    [\"005\",\"103\",\"Jack Chan\",\"40\",\"Male\",\"60000\",\"2013-04-01\"],\n",
    "    [\"006\",\"103\",\"Jill Wong\",\"32\",\"Female\",\"52000\",\"2018-07-01\"],\n",
    "    [\"007\",\"101\",\"James Johnson\",\"42\",\"Male\",\"70000\",\"2012-03-15\"],\n",
    "    [\"008\",\"102\",\"Kate Kim\",\"29\",\"Female\",\"51000\",\"2019-10-01\"],\n",
    "    [\"009\",\"103\",\"Tom Tan\",\"33\",\"Male\",\"58000\",\"2016-06-01\"],\n",
    "    [\"010\",\"104\",\"Lisa Lee\",\"27\",\"Female\",\"47000\",\"2018-08-01\"],\n",
    "    [\"011\",\"104\",\"David Park\",\"38\",\"Male\",\"65000\",\"2015-11-01\"],\n",
    "    [\"012\",\"105\",\"Susan Chen\",\"31\",\"Female\",\"54000\",\"2017-02-15\"],\n",
    "    [\"013\",\"106\",\"Brian Kim\",\"45\",\"Male\",\"75000\",\"2011-07-01\"],\n",
    "    [\"014\",\"107\",\"Emily Lee\",\"26\",\"Female\",\"46000\",\"2019-01-01\"],\n",
    "    [\"015\",\"106\",\"Michael Lee\",\"37\",\"Male\",\"63000\",\"2014-09-30\"],\n",
    "    [\"016\",\"107\",\"Kelly Zhang\",\"30\",\"Female\",\"49000\",\"2018-04-01\"],\n",
    "    [\"017\",\"105\",\"George Wang\",\"34\",\"Male\",\"57000\",\"2016-03-15\"],\n",
    "    [\"018\",\"104\",\"Nancy Liu\",\"29\",\"Female\",\"50000\",\"2017-06-01\"],\n",
    "    [\"019\",\"103\",\"Steven Chen\",\"36\",\"Male\",\"62000\",\"2015-08-01\"],\n",
    "    [\"020\",\"102\",\"Grace Kim\",\"32\",\"Female\",\"53000\",\"2018-11-01\"]\n",
    "]\n",
    "\n",
    "emp_schema = \"employee_id string, department_id string, name string, age string, gender string, salary string, hire_date string\""
   ]
  },
  {
   "cell_type": "code",
   "execution_count": 12,
   "id": "f9142ba7-8a51-4740-b34c-54cbac0c9af4",
   "metadata": {},
   "outputs": [],
   "source": [
    "# Create emp DataFrame\n",
    "\n",
    "emp = spark.createDataFrame(data=emp_data, schema=emp_schema)"
   ]
  },
  {
   "cell_type": "code",
   "execution_count": null,
   "id": "ded91da5-a2fa-487e-b79e-040e02936b78",
   "metadata": {},
   "outputs": [],
   "source": [
    "# Schema for emp\n",
    "\n",
    "emp.schema"
   ]
  },
  {
   "cell_type": "code",
   "execution_count": 13,
   "id": "8e269811-610e-466a-824e-f31a0ac113c9",
   "metadata": {},
   "outputs": [],
   "source": [
    "# Small Example for Schema\n",
    "from pyspark.sql.types import StructType, StructField, StringType, IntegerType\n",
    "schema_string = \"name string, age int\"\n",
    "\n",
    "schema_spark =  StructType([\n",
    "    StructField(\"name\", StringType(), True),\n",
    "    StructField(\"age\", IntegerType(), True)\n",
    "])"
   ]
  },
  {
   "cell_type": "code",
   "execution_count": 14,
   "id": "edf998f4-dc4d-482e-8251-6ab595df7d47",
   "metadata": {},
   "outputs": [
    {
     "data": {
      "text/plain": [
       "Column<'salary'>"
      ]
     },
     "execution_count": 14,
     "metadata": {},
     "output_type": "execute_result"
    }
   ],
   "source": [
    "# Columns and expression\n",
    "from pyspark.sql.functions import col, expr\n",
    "\n",
    "emp[\"salary\"]"
   ]
  },
  {
   "cell_type": "code",
   "execution_count": 15,
   "id": "c9feb163-983c-4ae6-8852-e6f34f20046c",
   "metadata": {},
   "outputs": [],
   "source": [
    "# SELECT columns\n",
    "# select employee_id, name, age, salary from emp\n",
    "\n",
    "emp_filtered = emp.select(col(\"employee_id\"), expr(\"name\"), emp.age, emp.salary)"
   ]
  },
  {
   "cell_type": "code",
   "execution_count": 16,
   "id": "75693e57-9eab-423c-ab49-5659f620de96",
   "metadata": {},
   "outputs": [
    {
     "name": "stdout",
     "output_type": "stream",
     "text": [
      "+-----------+-------------+---+------+\n",
      "|employee_id|         name|age|salary|\n",
      "+-----------+-------------+---+------+\n",
      "|        001|     John Doe| 30| 50000|\n",
      "|        002|   Jane Smith| 25| 45000|\n",
      "|        003|    Bob Brown| 35| 55000|\n",
      "|        004|    Alice Lee| 28| 48000|\n",
      "|        005|    Jack Chan| 40| 60000|\n",
      "|        006|    Jill Wong| 32| 52000|\n",
      "|        007|James Johnson| 42| 70000|\n",
      "|        008|     Kate Kim| 29| 51000|\n",
      "|        009|      Tom Tan| 33| 58000|\n",
      "|        010|     Lisa Lee| 27| 47000|\n",
      "|        011|   David Park| 38| 65000|\n",
      "|        012|   Susan Chen| 31| 54000|\n",
      "|        013|    Brian Kim| 45| 75000|\n",
      "|        014|    Emily Lee| 26| 46000|\n",
      "|        015|  Michael Lee| 37| 63000|\n",
      "|        016|  Kelly Zhang| 30| 49000|\n",
      "|        017|  George Wang| 34| 57000|\n",
      "|        018|    Nancy Liu| 29| 50000|\n",
      "|        019|  Steven Chen| 36| 62000|\n",
      "|        020|    Grace Kim| 32| 53000|\n",
      "+-----------+-------------+---+------+\n",
      "\n"
     ]
    }
   ],
   "source": [
    "# SHOW Dataframe (ACTION)\n",
    "\n",
    "emp_filtered.show()"
   ]
  },
  {
   "cell_type": "code",
   "execution_count": 17,
   "id": "4befca78-49ef-41d8-8cb3-4122ebfd3671",
   "metadata": {},
   "outputs": [],
   "source": [
    "# Using expr for select\n",
    "# select employee_id as emp_id, name, cast(age as int) as age, salary from emp_filtered\n",
    "\n",
    "emp_casted = emp_filtered.select(expr(\"employee_id as emp_id\"), emp.name, expr(\"cast(age as int) as age\"), emp.salary)"
   ]
  },
  {
   "cell_type": "code",
   "execution_count": 18,
   "id": "4d0ce3ee-9b4d-4c0b-895d-a09eb89cc6ef",
   "metadata": {},
   "outputs": [
    {
     "name": "stdout",
     "output_type": "stream",
     "text": [
      "+------+-------------+---+------+\n",
      "|emp_id|         name|age|salary|\n",
      "+------+-------------+---+------+\n",
      "|   001|     John Doe| 30| 50000|\n",
      "|   002|   Jane Smith| 25| 45000|\n",
      "|   003|    Bob Brown| 35| 55000|\n",
      "|   004|    Alice Lee| 28| 48000|\n",
      "|   005|    Jack Chan| 40| 60000|\n",
      "|   006|    Jill Wong| 32| 52000|\n",
      "|   007|James Johnson| 42| 70000|\n",
      "|   008|     Kate Kim| 29| 51000|\n",
      "|   009|      Tom Tan| 33| 58000|\n",
      "|   010|     Lisa Lee| 27| 47000|\n",
      "|   011|   David Park| 38| 65000|\n",
      "|   012|   Susan Chen| 31| 54000|\n",
      "|   013|    Brian Kim| 45| 75000|\n",
      "|   014|    Emily Lee| 26| 46000|\n",
      "|   015|  Michael Lee| 37| 63000|\n",
      "|   016|  Kelly Zhang| 30| 49000|\n",
      "|   017|  George Wang| 34| 57000|\n",
      "|   018|    Nancy Liu| 29| 50000|\n",
      "|   019|  Steven Chen| 36| 62000|\n",
      "|   020|    Grace Kim| 32| 53000|\n",
      "+------+-------------+---+------+\n",
      "\n"
     ]
    }
   ],
   "source": [
    "# SHOW Dataframe (ACTION)\n",
    "\n",
    "emp_casted.show()"
   ]
  },
  {
   "cell_type": "code",
   "execution_count": 19,
   "id": "d98bc623-001d-40a9-9b87-daea165738fb",
   "metadata": {},
   "outputs": [],
   "source": [
    "emp_casted_1 = emp_filtered.selectExpr(\"employee_id as emp_id\", \"name\", \"cast(age as int) as age\", \"salary\")"
   ]
  },
  {
   "cell_type": "code",
   "execution_count": 20,
   "id": "9a012246-6242-4868-bebd-3d2604d4fe0c",
   "metadata": {},
   "outputs": [
    {
     "name": "stdout",
     "output_type": "stream",
     "text": [
      "+------+-------------+---+------+\n",
      "|emp_id|         name|age|salary|\n",
      "+------+-------------+---+------+\n",
      "|   001|     John Doe| 30| 50000|\n",
      "|   002|   Jane Smith| 25| 45000|\n",
      "|   003|    Bob Brown| 35| 55000|\n",
      "|   004|    Alice Lee| 28| 48000|\n",
      "|   005|    Jack Chan| 40| 60000|\n",
      "|   006|    Jill Wong| 32| 52000|\n",
      "|   007|James Johnson| 42| 70000|\n",
      "|   008|     Kate Kim| 29| 51000|\n",
      "|   009|      Tom Tan| 33| 58000|\n",
      "|   010|     Lisa Lee| 27| 47000|\n",
      "|   011|   David Park| 38| 65000|\n",
      "|   012|   Susan Chen| 31| 54000|\n",
      "|   013|    Brian Kim| 45| 75000|\n",
      "|   014|    Emily Lee| 26| 46000|\n",
      "|   015|  Michael Lee| 37| 63000|\n",
      "|   016|  Kelly Zhang| 30| 49000|\n",
      "|   017|  George Wang| 34| 57000|\n",
      "|   018|    Nancy Liu| 29| 50000|\n",
      "|   019|  Steven Chen| 36| 62000|\n",
      "|   020|    Grace Kim| 32| 53000|\n",
      "+------+-------------+---+------+\n",
      "\n"
     ]
    }
   ],
   "source": [
    "emp_casted_1.show()"
   ]
  },
  {
   "cell_type": "code",
   "execution_count": 21,
   "id": "13893f03-c9e4-461f-ade5-c9214f5a95f4",
   "metadata": {},
   "outputs": [
    {
     "name": "stdout",
     "output_type": "stream",
     "text": [
      "root\n",
      " |-- emp_id: string (nullable = true)\n",
      " |-- name: string (nullable = true)\n",
      " |-- age: integer (nullable = true)\n",
      " |-- salary: string (nullable = true)\n",
      "\n"
     ]
    }
   ],
   "source": [
    "emp_casted.printSchema()"
   ]
  },
  {
   "cell_type": "code",
   "execution_count": 22,
   "id": "a2b75b28-f3c7-4e0b-bf99-98da4345f75f",
   "metadata": {},
   "outputs": [],
   "source": [
    "# Filter emp based on Age > 30\n",
    "# select emp_id, name, age, salary from emp_casted where age > 30\n",
    "\n",
    "emp_final = emp_casted.select(\"emp_id\", \"name\", \"age\", \"salary\").where(\"age > 30\")"
   ]
  },
  {
   "cell_type": "code",
   "execution_count": 28,
   "id": "fc28eb3e-f1b7-46fa-9ffc-531d91e7f160",
   "metadata": {},
   "outputs": [],
   "source": [
    "# Write the data back as CSV (ACTION)\n",
    "\n",
    "emp_final.repartition(1).write.format(\"csv\").option('header','true').option('overwrite','true').save(\"yo\")"
   ]
  },
  {
   "cell_type": "code",
   "execution_count": 29,
   "id": "814f8371-d286-429b-8a89-47c2fafcc14f",
   "metadata": {},
   "outputs": [
    {
     "data": {
      "text/plain": [
       "StructType([StructField('name', StringType(), True), StructField('age', IntegerType(), True)])"
      ]
     },
     "execution_count": 29,
     "metadata": {},
     "output_type": "execute_result"
    }
   ],
   "source": [
    "# Bonus TIP\n",
    "\n",
    "schema_str = \"name string, age int\"\n",
    "\n",
    "from pyspark.sql.types import _parse_datatype_string\n",
    "\n",
    "schema_spark = _parse_datatype_string(schema_str)\n",
    "\n",
    "schema_spark"
   ]
  },
  {
   "cell_type": "code",
   "execution_count": 30,
   "id": "dc3f3d62-0a44-48d6-8b75-12ccbb439289",
   "metadata": {},
   "outputs": [],
   "source": [
    "emp_casted = emp.select('employee_id','name','age',col('salary').cast('double'))"
   ]
  },
  {
   "cell_type": "code",
   "execution_count": 32,
   "id": "2ede23c2-9b00-42c3-aed0-2dde3bc407f9",
   "metadata": {},
   "outputs": [
    {
     "name": "stdout",
     "output_type": "stream",
     "text": [
      "root\n",
      " |-- employee_id: string (nullable = true)\n",
      " |-- name: string (nullable = true)\n",
      " |-- age: string (nullable = true)\n",
      " |-- salary: double (nullable = true)\n",
      "\n"
     ]
    }
   ],
   "source": [
    "emp_casted.printSchema()"
   ]
  },
  {
   "cell_type": "code",
   "execution_count": 33,
   "id": "0d110c9a-6a08-44bf-befc-c964ddc56e0c",
   "metadata": {},
   "outputs": [],
   "source": [
    "emp_taxed = emp_casted.withColumn('tax',col('salary')*.2)"
   ]
  },
  {
   "cell_type": "code",
   "execution_count": 35,
   "id": "03cead59-0e87-4fd2-b406-25383ee4a2ae",
   "metadata": {},
   "outputs": [],
   "source": [
    "emp_new_column  =  emp_taxed.withColumn('columnOne',lit(1)).withColumn('columnTwo',lit('two'))"
   ]
  },
  {
   "cell_type": "code",
   "execution_count": 36,
   "id": "4d7491b7-77d7-428f-ae88-5bad87c5b9b2",
   "metadata": {},
   "outputs": [
    {
     "name": "stdout",
     "output_type": "stream",
     "text": [
      "+-----------+-------------+---+-------+-------+---------+---------+\n",
      "|employee_id|         name|age| salary|    tax|columnOne|columnTwo|\n",
      "+-----------+-------------+---+-------+-------+---------+---------+\n",
      "|        001|     John Doe| 30|50000.0|10000.0|        1|      two|\n",
      "|        002|   Jane Smith| 25|45000.0| 9000.0|        1|      two|\n",
      "|        003|    Bob Brown| 35|55000.0|11000.0|        1|      two|\n",
      "|        004|    Alice Lee| 28|48000.0| 9600.0|        1|      two|\n",
      "|        005|    Jack Chan| 40|60000.0|12000.0|        1|      two|\n",
      "|        006|    Jill Wong| 32|52000.0|10400.0|        1|      two|\n",
      "|        007|James Johnson| 42|70000.0|14000.0|        1|      two|\n",
      "|        008|     Kate Kim| 29|51000.0|10200.0|        1|      two|\n",
      "|        009|      Tom Tan| 33|58000.0|11600.0|        1|      two|\n",
      "|        010|     Lisa Lee| 27|47000.0| 9400.0|        1|      two|\n",
      "|        011|   David Park| 38|65000.0|13000.0|        1|      two|\n",
      "|        012|   Susan Chen| 31|54000.0|10800.0|        1|      two|\n",
      "|        013|    Brian Kim| 45|75000.0|15000.0|        1|      two|\n",
      "|        014|    Emily Lee| 26|46000.0| 9200.0|        1|      two|\n",
      "|        015|  Michael Lee| 37|63000.0|12600.0|        1|      two|\n",
      "|        016|  Kelly Zhang| 30|49000.0| 9800.0|        1|      two|\n",
      "|        017|  George Wang| 34|57000.0|11400.0|        1|      two|\n",
      "|        018|    Nancy Liu| 29|50000.0|10000.0|        1|      two|\n",
      "|        019|  Steven Chen| 36|62000.0|12400.0|        1|      two|\n",
      "|        020|    Grace Kim| 32|53000.0|10600.0|        1|      two|\n",
      "+-----------+-------------+---+-------+-------+---------+---------+\n",
      "\n"
     ]
    }
   ],
   "source": [
    "emp_new_column.show()"
   ]
  },
  {
   "cell_type": "code",
   "execution_count": 37,
   "id": "8d5ce6cc-053b-47b7-ab3d-3bda6db18b83",
   "metadata": {},
   "outputs": [],
   "source": [
    "emp_1 = emp_new_column.withColumnRenamed('employee_id','emp_id')"
   ]
  },
  {
   "cell_type": "code",
   "execution_count": 38,
   "id": "cb65877c-f2d8-46fc-bbee-1771bcab05ae",
   "metadata": {},
   "outputs": [
    {
     "name": "stdout",
     "output_type": "stream",
     "text": [
      "+------+-------------+---+-------+-------+---------+---------+\n",
      "|emp_id|         name|age| salary|    tax|columnOne|columnTwo|\n",
      "+------+-------------+---+-------+-------+---------+---------+\n",
      "|   001|     John Doe| 30|50000.0|10000.0|        1|      two|\n",
      "|   002|   Jane Smith| 25|45000.0| 9000.0|        1|      two|\n",
      "|   003|    Bob Brown| 35|55000.0|11000.0|        1|      two|\n",
      "|   004|    Alice Lee| 28|48000.0| 9600.0|        1|      two|\n",
      "|   005|    Jack Chan| 40|60000.0|12000.0|        1|      two|\n",
      "|   006|    Jill Wong| 32|52000.0|10400.0|        1|      two|\n",
      "|   007|James Johnson| 42|70000.0|14000.0|        1|      two|\n",
      "|   008|     Kate Kim| 29|51000.0|10200.0|        1|      two|\n",
      "|   009|      Tom Tan| 33|58000.0|11600.0|        1|      two|\n",
      "|   010|     Lisa Lee| 27|47000.0| 9400.0|        1|      two|\n",
      "|   011|   David Park| 38|65000.0|13000.0|        1|      two|\n",
      "|   012|   Susan Chen| 31|54000.0|10800.0|        1|      two|\n",
      "|   013|    Brian Kim| 45|75000.0|15000.0|        1|      two|\n",
      "|   014|    Emily Lee| 26|46000.0| 9200.0|        1|      two|\n",
      "|   015|  Michael Lee| 37|63000.0|12600.0|        1|      two|\n",
      "|   016|  Kelly Zhang| 30|49000.0| 9800.0|        1|      two|\n",
      "|   017|  George Wang| 34|57000.0|11400.0|        1|      two|\n",
      "|   018|    Nancy Liu| 29|50000.0|10000.0|        1|      two|\n",
      "|   019|  Steven Chen| 36|62000.0|12400.0|        1|      two|\n",
      "|   020|    Grace Kim| 32|53000.0|10600.0|        1|      two|\n",
      "+------+-------------+---+-------+-------+---------+---------+\n",
      "\n"
     ]
    }
   ],
   "source": [
    "emp_1.show()"
   ]
  },
  {
   "cell_type": "code",
   "execution_count": 39,
   "id": "27b2003c-0b9c-4c36-bd3a-39eaae0a5701",
   "metadata": {},
   "outputs": [],
   "source": [
    "emp_dropped = emp_1.drop('columnOne','columnTwo')"
   ]
  },
  {
   "cell_type": "code",
   "execution_count": 40,
   "id": "0356aede-c2ee-4744-b528-674bc2cc6252",
   "metadata": {},
   "outputs": [
    {
     "name": "stdout",
     "output_type": "stream",
     "text": [
      "+------+-------------+---+-------+-------+\n",
      "|emp_id|         name|age| salary|    tax|\n",
      "+------+-------------+---+-------+-------+\n",
      "|   001|     John Doe| 30|50000.0|10000.0|\n",
      "|   002|   Jane Smith| 25|45000.0| 9000.0|\n",
      "|   003|    Bob Brown| 35|55000.0|11000.0|\n",
      "|   004|    Alice Lee| 28|48000.0| 9600.0|\n",
      "|   005|    Jack Chan| 40|60000.0|12000.0|\n",
      "|   006|    Jill Wong| 32|52000.0|10400.0|\n",
      "|   007|James Johnson| 42|70000.0|14000.0|\n",
      "|   008|     Kate Kim| 29|51000.0|10200.0|\n",
      "|   009|      Tom Tan| 33|58000.0|11600.0|\n",
      "|   010|     Lisa Lee| 27|47000.0| 9400.0|\n",
      "|   011|   David Park| 38|65000.0|13000.0|\n",
      "|   012|   Susan Chen| 31|54000.0|10800.0|\n",
      "|   013|    Brian Kim| 45|75000.0|15000.0|\n",
      "|   014|    Emily Lee| 26|46000.0| 9200.0|\n",
      "|   015|  Michael Lee| 37|63000.0|12600.0|\n",
      "|   016|  Kelly Zhang| 30|49000.0| 9800.0|\n",
      "|   017|  George Wang| 34|57000.0|11400.0|\n",
      "|   018|    Nancy Liu| 29|50000.0|10000.0|\n",
      "|   019|  Steven Chen| 36|62000.0|12400.0|\n",
      "|   020|    Grace Kim| 32|53000.0|10600.0|\n",
      "+------+-------------+---+-------+-------+\n",
      "\n"
     ]
    }
   ],
   "source": [
    "emp_dropped.show()"
   ]
  },
  {
   "cell_type": "code",
   "execution_count": 41,
   "id": "5e398faa-ef55-4bb6-b21a-1b310206897b",
   "metadata": {},
   "outputs": [],
   "source": [
    "emp_filtered =  emp_dropped.filter(col('tax')>10000)"
   ]
  },
  {
   "cell_type": "code",
   "execution_count": 43,
   "id": "213c831c-167b-471f-9dae-12f8b0842768",
   "metadata": {},
   "outputs": [
    {
     "name": "stdout",
     "output_type": "stream",
     "text": [
      "+------+---------+---+-------+-------+\n",
      "|emp_id|name     |age|salary |tax    |\n",
      "+------+---------+---+-------+-------+\n",
      "|003   |Bob Brown|35 |55000.0|11000.0|\n",
      "|005   |Jack Chan|40 |60000.0|12000.0|\n",
      "+------+---------+---+-------+-------+\n",
      "only showing top 2 rows\n",
      "\n"
     ]
    }
   ],
   "source": [
    "emp_filtered.show(2,truncate=False)"
   ]
  },
  {
   "cell_type": "code",
   "execution_count": 46,
   "id": "b4eb44cd-4893-4f74-8184-d52cababbbe5",
   "metadata": {},
   "outputs": [],
   "source": [
    "columns={\n",
    "    'tax1' : col('salary')*.02,\n",
    "    'one_number' : lit(1),\n",
    "    'column_two' : lit('sanbag')\n",
    "\n",
    "}"
   ]
  },
  {
   "cell_type": "code",
   "execution_count": 47,
   "id": "07dc25d4-642a-4257-a7b7-457ae8b1b591",
   "metadata": {},
   "outputs": [],
   "source": [
    "emp_final = emp.withColumns(columns)"
   ]
  },
  {
   "cell_type": "code",
   "execution_count": 48,
   "id": "6ef5a9b2-86b9-4a4a-ad9a-bdda9727b4e7",
   "metadata": {},
   "outputs": [
    {
     "name": "stdout",
     "output_type": "stream",
     "text": [
      "+-----------+-------------+-------------+---+------+------+----------+------+----------+----------+\n",
      "|employee_id|department_id|         name|age|gender|salary| hire_date|  tax1|one_number|column_two|\n",
      "+-----------+-------------+-------------+---+------+------+----------+------+----------+----------+\n",
      "|        001|          101|     John Doe| 30|  Male| 50000|2015-01-01|1000.0|         1|    sanbag|\n",
      "|        002|          101|   Jane Smith| 25|Female| 45000|2016-02-15| 900.0|         1|    sanbag|\n",
      "|        003|          102|    Bob Brown| 35|  Male| 55000|2014-05-01|1100.0|         1|    sanbag|\n",
      "|        004|          102|    Alice Lee| 28|Female| 48000|2017-09-30| 960.0|         1|    sanbag|\n",
      "|        005|          103|    Jack Chan| 40|  Male| 60000|2013-04-01|1200.0|         1|    sanbag|\n",
      "|        006|          103|    Jill Wong| 32|Female| 52000|2018-07-01|1040.0|         1|    sanbag|\n",
      "|        007|          101|James Johnson| 42|  Male| 70000|2012-03-15|1400.0|         1|    sanbag|\n",
      "|        008|          102|     Kate Kim| 29|Female| 51000|2019-10-01|1020.0|         1|    sanbag|\n",
      "|        009|          103|      Tom Tan| 33|  Male| 58000|2016-06-01|1160.0|         1|    sanbag|\n",
      "|        010|          104|     Lisa Lee| 27|Female| 47000|2018-08-01| 940.0|         1|    sanbag|\n",
      "|        011|          104|   David Park| 38|  Male| 65000|2015-11-01|1300.0|         1|    sanbag|\n",
      "|        012|          105|   Susan Chen| 31|Female| 54000|2017-02-15|1080.0|         1|    sanbag|\n",
      "|        013|          106|    Brian Kim| 45|  Male| 75000|2011-07-01|1500.0|         1|    sanbag|\n",
      "|        014|          107|    Emily Lee| 26|Female| 46000|2019-01-01| 920.0|         1|    sanbag|\n",
      "|        015|          106|  Michael Lee| 37|  Male| 63000|2014-09-30|1260.0|         1|    sanbag|\n",
      "|        016|          107|  Kelly Zhang| 30|Female| 49000|2018-04-01| 980.0|         1|    sanbag|\n",
      "|        017|          105|  George Wang| 34|  Male| 57000|2016-03-15|1140.0|         1|    sanbag|\n",
      "|        018|          104|    Nancy Liu| 29|Female| 50000|2017-06-01|1000.0|         1|    sanbag|\n",
      "|        019|          103|  Steven Chen| 36|  Male| 62000|2015-08-01|1240.0|         1|    sanbag|\n",
      "|        020|          102|    Grace Kim| 32|Female| 53000|2018-11-01|1060.0|         1|    sanbag|\n",
      "+-----------+-------------+-------------+---+------+------+----------+------+----------+----------+\n",
      "\n"
     ]
    }
   ],
   "source": [
    "emp_final.show()"
   ]
  },
  {
   "cell_type": "code",
   "execution_count": null,
   "id": "201be65c-6662-4f5a-b3dc-544a37b18b72",
   "metadata": {},
   "outputs": [],
   "source": []
  }
 ],
 "metadata": {
  "kernelspec": {
   "display_name": "Python 3 (ipykernel)",
   "language": "python",
   "name": "python3"
  },
  "language_info": {
   "codemirror_mode": {
    "name": "ipython",
    "version": 3
   },
   "file_extension": ".py",
   "mimetype": "text/x-python",
   "name": "python",
   "nbconvert_exporter": "python",
   "pygments_lexer": "ipython3",
   "version": "3.10.6"
  }
 },
 "nbformat": 4,
 "nbformat_minor": 5
}
