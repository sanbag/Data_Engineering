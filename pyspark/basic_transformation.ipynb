{
 "cells": [
  {
   "cell_type": "code",
   "execution_count": 52,
   "id": "9c528407-e9d1-4729-bf58-9b35ed95e7f2",
   "metadata": {},
   "outputs": [],
   "source": [
    "from pyspark.sql import SparkSession\n",
    "\n",
    "from pyspark.sql.functions import *\n",
    "from pyspark.sql.types import *"
   ]
  },
  {
   "cell_type": "code",
   "execution_count": 53,
   "id": "8394f911-aff3-48a8-90c8-16ed27f5b2c5",
   "metadata": {},
   "outputs": [],
   "source": [
    "spark = (\n",
    "SparkSession\n",
    "    .builder\n",
    "    .appName('spark intro')\n",
    "    .master('local[*]')\n",
    "    .getOrCreate()\n",
    ")"
   ]
  },
  {
   "cell_type": "code",
   "execution_count": 27,
   "id": "eb7f2525-7b4c-49ff-9d6d-7e0a17ad1e83",
   "metadata": {},
   "outputs": [
    {
     "data": {
      "text/html": [
       "\n",
       "            <div>\n",
       "                <p><b>SparkSession - in-memory</b></p>\n",
       "                \n",
       "        <div>\n",
       "            <p><b>SparkContext</b></p>\n",
       "\n",
       "            <p><a href=\"http://28f46cac0dba:4040\">Spark UI</a></p>\n",
       "\n",
       "            <dl>\n",
       "              <dt>Version</dt>\n",
       "                <dd><code>v3.3.0</code></dd>\n",
       "              <dt>Master</dt>\n",
       "                <dd><code>local[*]</code></dd>\n",
       "              <dt>AppName</dt>\n",
       "                <dd><code>spark intro</code></dd>\n",
       "            </dl>\n",
       "        </div>\n",
       "        \n",
       "            </div>\n",
       "        "
      ],
      "text/plain": [
       "<pyspark.sql.session.SparkSession at 0x7f748f91b880>"
      ]
     },
     "execution_count": 27,
     "metadata": {},
     "output_type": "execute_result"
    }
   ],
   "source": [
    "spark\n"
   ]
  },
  {
   "cell_type": "code",
   "execution_count": 54,
   "id": "0f3db15f-dd9f-4e37-a4a4-707ae8ce7ee6",
   "metadata": {},
   "outputs": [],
   "source": [
    "emp_data = [\n",
    "    [\"001\",\"101\",\"John Doe\",\"30\",\"Male\",\"50000\",\"2015-01-01\"],\n",
    "    [\"002\",\"101\",\"Jane Smith\",\"25\",\"Female\",\"45000\",\"2016-02-15\"],\n",
    "    [\"003\",\"102\",\"Bob Brown\",\"35\",\"Male\",\"55000\",\"2014-05-01\"],\n",
    "    [\"004\",\"102\",\"Alice Lee\",\"28\",\"Female\",\"48000\",\"2017-09-30\"],\n",
    "    [\"005\",\"103\",\"Jack Chan\",\"40\",\"Male\",\"60000\",\"2013-04-01\"],\n",
    "    [\"006\",\"103\",\"Jill Wong\",\"32\",\"Female\",\"52000\",\"2018-07-01\"],\n",
    "    [\"007\",\"101\",\"James Johnson\",\"42\",\"Male\",\"70000\",\"2012-03-15\"],\n",
    "    [\"008\",\"102\",\"Kate Kim\",\"29\",\"Female\",\"51000\",\"2019-10-01\"],\n",
    "    [\"009\",\"103\",\"Tom Tan\",\"33\",\"Male\",\"58000\",\"2016-06-01\"],\n",
    "    [\"010\",\"104\",\"Lisa Lee\",\"27\",\"Female\",\"47000\",\"2018-08-01\"],\n",
    "    [\"011\",\"104\",\"David Park\",\"38\",\"Male\",\"65000\",\"2015-11-01\"],\n",
    "    [\"012\",\"105\",\"Susan Chen\",\"31\",\"Female\",\"54000\",\"2017-02-15\"],\n",
    "    [\"013\",\"106\",\"Brian Kim\",\"45\",\"Male\",\"75000\",\"2011-07-01\"],\n",
    "    [\"014\",\"107\",\"Emily Lee\",\"26\",\"Female\",\"46000\",\"2019-01-01\"],\n",
    "    [\"015\",\"106\",\"Michael Lee\",\"37\",\"Male\",\"63000\",\"2014-09-30\"],\n",
    "    [\"016\",\"107\",\"Kelly Zhang\",\"30\",\"Female\",\"49000\",\"2018-04-01\"],\n",
    "    [\"017\",\"105\",\"George Wang\",\"34\",\"Male\",\"57000\",\"2016-03-15\"],\n",
    "    [\"018\",\"104\",\"Nancy Liu\",\"29\",\"Female\",\"50000\",\"2017-06-01\"],\n",
    "    [\"019\",\"103\",\"Steven Chen\",\"36\",\"Male\",\"62000\",\"2015-08-01\"],\n",
    "    [\"020\",\"102\",\"Grace Kim\",\"32\",\"Female\",\"53000\",\"2018-11-01\"]\n",
    "]\n",
    "\n",
    "emp_schema =  \"employee_id string, department_id string, name string, age string, gender string, salary string, hire_date string\""
   ]
  },
  {
   "cell_type": "code",
   "execution_count": 55,
   "id": "f9142ba7-8a51-4740-b34c-54cbac0c9af4",
   "metadata": {},
   "outputs": [],
   "source": [
    "emp = spark.createDataFrame(data=emp_data,schema=emp_schema)"
   ]
  },
  {
   "cell_type": "code",
   "execution_count": 56,
   "id": "ded91da5-a2fa-487e-b79e-040e02936b78",
   "metadata": {},
   "outputs": [
    {
     "name": "stdout",
     "output_type": "stream",
     "text": [
      "+-----------+-------------+-------------+---+------+------+----------+\n",
      "|employee_id|department_id|         name|age|gender|salary| hire_date|\n",
      "+-----------+-------------+-------------+---+------+------+----------+\n",
      "|        001|          101|     John Doe| 30|  Male| 50000|2015-01-01|\n",
      "|        002|          101|   Jane Smith| 25|Female| 45000|2016-02-15|\n",
      "|        003|          102|    Bob Brown| 35|  Male| 55000|2014-05-01|\n",
      "|        004|          102|    Alice Lee| 28|Female| 48000|2017-09-30|\n",
      "|        005|          103|    Jack Chan| 40|  Male| 60000|2013-04-01|\n",
      "|        006|          103|    Jill Wong| 32|Female| 52000|2018-07-01|\n",
      "|        007|          101|James Johnson| 42|  Male| 70000|2012-03-15|\n",
      "|        008|          102|     Kate Kim| 29|Female| 51000|2019-10-01|\n",
      "|        009|          103|      Tom Tan| 33|  Male| 58000|2016-06-01|\n",
      "|        010|          104|     Lisa Lee| 27|Female| 47000|2018-08-01|\n",
      "|        011|          104|   David Park| 38|  Male| 65000|2015-11-01|\n",
      "|        012|          105|   Susan Chen| 31|Female| 54000|2017-02-15|\n",
      "|        013|          106|    Brian Kim| 45|  Male| 75000|2011-07-01|\n",
      "|        014|          107|    Emily Lee| 26|Female| 46000|2019-01-01|\n",
      "|        015|          106|  Michael Lee| 37|  Male| 63000|2014-09-30|\n",
      "|        016|          107|  Kelly Zhang| 30|Female| 49000|2018-04-01|\n",
      "|        017|          105|  George Wang| 34|  Male| 57000|2016-03-15|\n",
      "|        018|          104|    Nancy Liu| 29|Female| 50000|2017-06-01|\n",
      "|        019|          103|  Steven Chen| 36|  Male| 62000|2015-08-01|\n",
      "|        020|          102|    Grace Kim| 32|Female| 53000|2018-11-01|\n",
      "+-----------+-------------+-------------+---+------+------+----------+\n",
      "\n"
     ]
    }
   ],
   "source": [
    "emp.show()"
   ]
  },
  {
   "cell_type": "code",
   "execution_count": 57,
   "id": "8e269811-610e-466a-824e-f31a0ac113c9",
   "metadata": {},
   "outputs": [
    {
     "data": {
      "text/plain": [
       "12"
      ]
     },
     "execution_count": 57,
     "metadata": {},
     "output_type": "execute_result"
    }
   ],
   "source": [
    "emp.rdd.getNumPartitions()"
   ]
  },
  {
   "cell_type": "code",
   "execution_count": 58,
   "id": "edf998f4-dc4d-482e-8251-6ab595df7d47",
   "metadata": {},
   "outputs": [],
   "source": [
    "emp_final = emp.where(col(\"salary\")>50000)"
   ]
  },
  {
   "cell_type": "code",
   "execution_count": 59,
   "id": "c9feb163-983c-4ae6-8852-e6f34f20046c",
   "metadata": {},
   "outputs": [
    {
     "data": {
      "text/plain": [
       "12"
      ]
     },
     "execution_count": 59,
     "metadata": {},
     "output_type": "execute_result"
    }
   ],
   "source": [
    "emp_final.rdd.getNumPartitions()"
   ]
  },
  {
   "cell_type": "code",
   "execution_count": 60,
   "id": "75693e57-9eab-423c-ab49-5659f620de96",
   "metadata": {},
   "outputs": [
    {
     "name": "stdout",
     "output_type": "stream",
     "text": [
      "+-----------+-------------+-------------+---+------+------+----------+\n",
      "|employee_id|department_id|         name|age|gender|salary| hire_date|\n",
      "+-----------+-------------+-------------+---+------+------+----------+\n",
      "|        003|          102|    Bob Brown| 35|  Male| 55000|2014-05-01|\n",
      "|        005|          103|    Jack Chan| 40|  Male| 60000|2013-04-01|\n",
      "|        006|          103|    Jill Wong| 32|Female| 52000|2018-07-01|\n",
      "|        007|          101|James Johnson| 42|  Male| 70000|2012-03-15|\n",
      "|        008|          102|     Kate Kim| 29|Female| 51000|2019-10-01|\n",
      "|        009|          103|      Tom Tan| 33|  Male| 58000|2016-06-01|\n",
      "|        011|          104|   David Park| 38|  Male| 65000|2015-11-01|\n",
      "|        012|          105|   Susan Chen| 31|Female| 54000|2017-02-15|\n",
      "|        013|          106|    Brian Kim| 45|  Male| 75000|2011-07-01|\n",
      "|        015|          106|  Michael Lee| 37|  Male| 63000|2014-09-30|\n",
      "|        017|          105|  George Wang| 34|  Male| 57000|2016-03-15|\n",
      "|        019|          103|  Steven Chen| 36|  Male| 62000|2015-08-01|\n",
      "|        020|          102|    Grace Kim| 32|Female| 53000|2018-11-01|\n",
      "+-----------+-------------+-------------+---+------+------+----------+\n",
      "\n"
     ]
    }
   ],
   "source": [
    "emp_final.show()"
   ]
  },
  {
   "cell_type": "code",
   "execution_count": 64,
   "id": "4befca78-49ef-41d8-8cb3-4122ebfd3671",
   "metadata": {},
   "outputs": [
    {
     "data": {
      "text/plain": [
       "StructType([StructField('employee_id', StringType(), True), StructField('department_id', StringType(), True), StructField('name', StringType(), True), StructField('age', StringType(), True), StructField('gender', StringType(), True), StructField('salary', StringType(), True), StructField('hire_date', StringType(), True)])"
      ]
     },
     "execution_count": 64,
     "metadata": {},
     "output_type": "execute_result"
    }
   ],
   "source": [
    "emp.schema"
   ]
  },
  {
   "cell_type": "code",
   "execution_count": 65,
   "id": "4d0ce3ee-9b4d-4c0b-895d-a09eb89cc6ef",
   "metadata": {},
   "outputs": [
    {
     "name": "stdout",
     "output_type": "stream",
     "text": [
      "root\n",
      " |-- employee_id: string (nullable = true)\n",
      " |-- department_id: string (nullable = true)\n",
      " |-- name: string (nullable = true)\n",
      " |-- age: string (nullable = true)\n",
      " |-- gender: string (nullable = true)\n",
      " |-- salary: string (nullable = true)\n",
      " |-- hire_date: string (nullable = true)\n",
      "\n"
     ]
    }
   ],
   "source": [
    "emp.printSchema()"
   ]
  },
  {
   "cell_type": "code",
   "execution_count": 67,
   "id": "d98bc623-001d-40a9-9b87-daea165738fb",
   "metadata": {},
   "outputs": [],
   "source": [
    "schema_spark = StructType([\n",
    "    StructField('name',StringType(),True),\n",
    "    StructField('age',IntegerType(),True)\n",
    "    \n",
    "])"
   ]
  },
  {
   "cell_type": "code",
   "execution_count": 79,
   "id": "9a012246-6242-4868-bebd-3d2604d4fe0c",
   "metadata": {},
   "outputs": [],
   "source": [
    "emp_filtered =  emp.select(col('employee_id'),expr('name'),emp.age,emp.gender,emp.salary)"
   ]
  },
  {
   "cell_type": "code",
   "execution_count": 80,
   "id": "13893f03-c9e4-461f-ade5-c9214f5a95f4",
   "metadata": {},
   "outputs": [
    {
     "name": "stdout",
     "output_type": "stream",
     "text": [
      "+-----------+-------------+---+------+------+\n",
      "|employee_id|         name|age|gender|salary|\n",
      "+-----------+-------------+---+------+------+\n",
      "|        001|     John Doe| 30|  Male| 50000|\n",
      "|        002|   Jane Smith| 25|Female| 45000|\n",
      "|        003|    Bob Brown| 35|  Male| 55000|\n",
      "|        004|    Alice Lee| 28|Female| 48000|\n",
      "|        005|    Jack Chan| 40|  Male| 60000|\n",
      "|        006|    Jill Wong| 32|Female| 52000|\n",
      "|        007|James Johnson| 42|  Male| 70000|\n",
      "|        008|     Kate Kim| 29|Female| 51000|\n",
      "|        009|      Tom Tan| 33|  Male| 58000|\n",
      "|        010|     Lisa Lee| 27|Female| 47000|\n",
      "|        011|   David Park| 38|  Male| 65000|\n",
      "|        012|   Susan Chen| 31|Female| 54000|\n",
      "|        013|    Brian Kim| 45|  Male| 75000|\n",
      "|        014|    Emily Lee| 26|Female| 46000|\n",
      "|        015|  Michael Lee| 37|  Male| 63000|\n",
      "|        016|  Kelly Zhang| 30|Female| 49000|\n",
      "|        017|  George Wang| 34|  Male| 57000|\n",
      "|        018|    Nancy Liu| 29|Female| 50000|\n",
      "|        019|  Steven Chen| 36|  Male| 62000|\n",
      "|        020|    Grace Kim| 32|Female| 53000|\n",
      "+-----------+-------------+---+------+------+\n",
      "\n"
     ]
    }
   ],
   "source": [
    "emp_filtered.show()"
   ]
  },
  {
   "cell_type": "code",
   "execution_count": 81,
   "id": "a2b75b28-f3c7-4e0b-bf99-98da4345f75f",
   "metadata": {},
   "outputs": [
    {
     "ename": "SyntaxError",
     "evalue": "invalid syntax (671893862.py, line 1)",
     "output_type": "error",
     "traceback": [
      "\u001b[0;36m  Cell \u001b[0;32mIn [81], line 1\u001b[0;36m\u001b[0m\n\u001b[0;31m    emp_casted = emp_filtered.select(expr(\"employee_id as emp_id\"),emp_filtered.name as 'na')\u001b[0m\n\u001b[0m                                                                                     ^\u001b[0m\n\u001b[0;31mSyntaxError\u001b[0m\u001b[0;31m:\u001b[0m invalid syntax\n"
     ]
    }
   ],
   "source": [
    "emp_casted = emp_filtered.select(expr(\"employee_id as emp_id\"),emp_filtered.name as 'na')"
   ]
  },
  {
   "cell_type": "code",
   "execution_count": 82,
   "id": "fc28eb3e-f1b7-46fa-9ffc-531d91e7f160",
   "metadata": {},
   "outputs": [],
   "source": [
    "emp_casted = emp_filtered.select(expr(\"employee_id as emp_id\"),emp_filtered.name.alias('na'),expr('cast(age as int) as age'),emp_filtered.age.cast('int').alias('intage'))"
   ]
  },
  {
   "cell_type": "code",
   "execution_count": 83,
   "id": "814f8371-d286-429b-8a89-47c2fafcc14f",
   "metadata": {},
   "outputs": [
    {
     "name": "stdout",
     "output_type": "stream",
     "text": [
      "+------+-------------+---+------+\n",
      "|emp_id|           na|age|intage|\n",
      "+------+-------------+---+------+\n",
      "|   001|     John Doe| 30|    30|\n",
      "|   002|   Jane Smith| 25|    25|\n",
      "|   003|    Bob Brown| 35|    35|\n",
      "|   004|    Alice Lee| 28|    28|\n",
      "|   005|    Jack Chan| 40|    40|\n",
      "|   006|    Jill Wong| 32|    32|\n",
      "|   007|James Johnson| 42|    42|\n",
      "|   008|     Kate Kim| 29|    29|\n",
      "|   009|      Tom Tan| 33|    33|\n",
      "|   010|     Lisa Lee| 27|    27|\n",
      "|   011|   David Park| 38|    38|\n",
      "|   012|   Susan Chen| 31|    31|\n",
      "|   013|    Brian Kim| 45|    45|\n",
      "|   014|    Emily Lee| 26|    26|\n",
      "|   015|  Michael Lee| 37|    37|\n",
      "|   016|  Kelly Zhang| 30|    30|\n",
      "|   017|  George Wang| 34|    34|\n",
      "|   018|    Nancy Liu| 29|    29|\n",
      "|   019|  Steven Chen| 36|    36|\n",
      "|   020|    Grace Kim| 32|    32|\n",
      "+------+-------------+---+------+\n",
      "\n"
     ]
    }
   ],
   "source": [
    "emp_casted.show()"
   ]
  },
  {
   "cell_type": "code",
   "execution_count": 84,
   "id": "dc3f3d62-0a44-48d6-8b75-12ccbb439289",
   "metadata": {},
   "outputs": [],
   "source": [
    "emp_casted_1 = emp_filtered.selectExpr('employee_id as  emp_id','name','cast(age as int) as age','salary')"
   ]
  },
  {
   "cell_type": "code",
   "execution_count": 90,
   "id": "2ede23c2-9b00-42c3-aed0-2dde3bc407f9",
   "metadata": {},
   "outputs": [],
   "source": [
    "emp_final = emp_casted_1.select(\"*\").where(col('age')>30)"
   ]
  },
  {
   "cell_type": "code",
   "execution_count": null,
   "id": "0d110c9a-6a08-44bf-befc-c964ddc56e0c",
   "metadata": {},
   "outputs": [],
   "source": []
  }
 ],
 "metadata": {
  "kernelspec": {
   "display_name": "Python 3 (ipykernel)",
   "language": "python",
   "name": "python3"
  },
  "language_info": {
   "codemirror_mode": {
    "name": "ipython",
    "version": 3
   },
   "file_extension": ".py",
   "mimetype": "text/x-python",
   "name": "python",
   "nbconvert_exporter": "python",
   "pygments_lexer": "ipython3",
   "version": "3.10.6"
  }
 },
 "nbformat": 4,
 "nbformat_minor": 5
}
