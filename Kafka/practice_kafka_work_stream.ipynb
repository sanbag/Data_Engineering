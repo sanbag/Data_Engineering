{
 "cells": [
  {
   "cell_type": "code",
   "execution_count": 1,
   "id": "dc639856-34f6-4098-907b-6b7e949a810a",
   "metadata": {},
   "outputs": [],
   "source": [
    "from pyspark.sql import SparkSession"
   ]
  },
  {
   "cell_type": "code",
   "execution_count": 2,
   "id": "f83be491-2eb6-4f53-ac89-c318a66f3e7d",
   "metadata": {},
   "outputs": [],
   "source": [
    "spark = (\n",
    "    SparkSession\n",
    "    .builder\n",
    "    .appName(\"Reading from socket\")\n",
    "    .master(\"local[*]\").getOrCreate()\n",
    ")"
   ]
  },
  {
   "cell_type": "code",
   "execution_count": 3,
   "id": "fb7fdbf8-7c00-47b2-9355-33e27f4c8823",
   "metadata": {},
   "outputs": [],
   "source": [
    "df_raw = spark.readStream.format('socket').option(\"host\",\"localhost\").option(\"port\",\"9999\").load()"
   ]
  },
  {
   "cell_type": "code",
   "execution_count": 4,
   "id": "66bba6b6-b77a-49e2-b7ae-6cbf8a861b76",
   "metadata": {},
   "outputs": [],
   "source": [
    "# Split the line into words\n",
    "from pyspark.sql.functions import split\n",
    "\n",
    "df_words = df_raw.withColumn(\"words\", split(\"value\", \" \"))"
   ]
  },
  {
   "cell_type": "code",
   "execution_count": 5,
   "id": "db933efc-adff-4185-9133-903d05630ede",
   "metadata": {},
   "outputs": [],
   "source": [
    "# Explode the list of words\n",
    "from pyspark.sql.functions import explode\n",
    "\n",
    "df_explode = df_words.withColumn(\"word\", explode(\"words\")).drop(\"value\", \"words\")"
   ]
  },
  {
   "cell_type": "code",
   "execution_count": 6,
   "id": "ef3dfb2d-6ea5-40cd-bfca-411dd156ac88",
   "metadata": {},
   "outputs": [],
   "source": [
    "# Aggregate the words to generate count\n",
    "from pyspark.sql.functions import count, lit\n",
    "\n",
    "df_agg = df_explode.groupBy(\"word\").agg(count(lit(1)).alias(\"cnt\"))"
   ]
  },
  {
   "cell_type": "code",
   "execution_count": null,
   "id": "b5d1655d-902f-4abf-8544-4f9585894ca1",
   "metadata": {},
   "outputs": [],
   "source": [
    "df_agg.writeStream.format(\"console\").outputMode(\"complete\").start().awaitTermination()"
   ]
  },
  {
   "cell_type": "code",
   "execution_count": null,
   "id": "199e3acc-e625-486d-b300-e56f701c657d",
   "metadata": {},
   "outputs": [],
   "source": []
  }
 ],
 "metadata": {
  "kernelspec": {
   "display_name": "Python 3 (ipykernel)",
   "language": "python",
   "name": "python3"
  },
  "language_info": {
   "codemirror_mode": {
    "name": "ipython",
    "version": 3
   },
   "file_extension": ".py",
   "mimetype": "text/x-python",
   "name": "python",
   "nbconvert_exporter": "python",
   "pygments_lexer": "ipython3",
   "version": "3.10.6"
  }
 },
 "nbformat": 4,
 "nbformat_minor": 5
}
