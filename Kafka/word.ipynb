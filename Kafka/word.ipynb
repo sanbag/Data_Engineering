{
 "cells": [
  {
   "cell_type": "code",
   "execution_count": 40,
   "id": "b5f32995-8ad5-4609-ae74-250a5621c0ea",
   "metadata": {},
   "outputs": [],
   "source": [
    "from pyspark.sql import SparkSession\n",
    "from pyspark.sql.functions import *\n",
    "from pyspark.sql.types import *"
   ]
  },
  {
   "cell_type": "code",
   "execution_count": 41,
   "id": "218dc3ae-7f3a-4d73-8610-cd245a7b4321",
   "metadata": {},
   "outputs": [],
   "source": [
    "spark = (\n",
    "    SparkSession\n",
    "    .builder\n",
    "    .appName(\"Reading from socket\")\n",
    "    .master(\"local[*]\").getOrCreate()\n",
    ")"
   ]
  },
  {
   "cell_type": "code",
   "execution_count": 42,
   "id": "baa7a725-ffbb-4940-be85-75af5cbcf38a",
   "metadata": {},
   "outputs": [],
   "source": [
    "path = 'word_count.txt'"
   ]
  },
  {
   "cell_type": "code",
   "execution_count": 43,
   "id": "14136715-7e68-4fe3-9f80-68fc31e93154",
   "metadata": {},
   "outputs": [],
   "source": [
    "df = spark.read.text(path)"
   ]
  },
  {
   "cell_type": "code",
   "execution_count": 44,
   "id": "58d80eca-cf58-450f-bff5-c0899b5527b6",
   "metadata": {},
   "outputs": [
    {
     "name": "stdout",
     "output_type": "stream",
     "text": [
      "root\n",
      " |-- value: string (nullable = true)\n",
      "\n"
     ]
    }
   ],
   "source": [
    "df.printSchema()"
   ]
  },
  {
   "cell_type": "code",
   "execution_count": 45,
   "id": "4e57a223-b22f-4969-a0ca-d251d6c795ec",
   "metadata": {},
   "outputs": [],
   "source": [
    "df_split = df.withColumn('words',split(col('value'),' '))"
   ]
  },
  {
   "cell_type": "code",
   "execution_count": 46,
   "id": "919eff90-6b9a-4ec4-ace5-f491d473811b",
   "metadata": {},
   "outputs": [],
   "source": [
    "df_explode =  df_split.withColumn('word',explode(col('words'))).drop('value','words')"
   ]
  },
  {
   "cell_type": "code",
   "execution_count": 47,
   "id": "dca620c8-7886-4fa5-b468-f9295485a6cd",
   "metadata": {},
   "outputs": [
    {
     "name": "stdout",
     "output_type": "stream",
     "text": [
      "+-------+\n",
      "|   word|\n",
      "+-------+\n",
      "|santosh|\n",
      "|     is|\n",
      "|      a|\n",
      "|   very|\n",
      "|   good|\n",
      "|    boy|\n",
      "|    and|\n",
      "|  loves|\n",
      "|     to|\n",
      "|   work|\n",
      "|   hard|\n",
      "|    and|\n",
      "|santosh|\n",
      "|     is|\n",
      "|  smart|\n",
      "|    boy|\n",
      "+-------+\n",
      "\n"
     ]
    }
   ],
   "source": [
    "df_explode.show()"
   ]
  },
  {
   "cell_type": "code",
   "execution_count": 48,
   "id": "a1391da3-6a4b-4ad0-bfc0-508ee6487950",
   "metadata": {},
   "outputs": [],
   "source": [
    "df_agg = df_explode.groupby(col('word')).agg(count(lit(1))).alias('cnt')"
   ]
  },
  {
   "cell_type": "code",
   "execution_count": 49,
   "id": "3317b03e-a90f-4a38-aca7-8a8cf2c6ed5a",
   "metadata": {},
   "outputs": [
    {
     "name": "stdout",
     "output_type": "stream",
     "text": [
      "+-------+--------+\n",
      "|   word|count(1)|\n",
      "+-------+--------+\n",
      "|    boy|       2|\n",
      "|     is|       2|\n",
      "|   hard|       1|\n",
      "|   work|       1|\n",
      "|    and|       2|\n",
      "|   very|       1|\n",
      "|santosh|       2|\n",
      "|  loves|       1|\n",
      "|   good|       1|\n",
      "|  smart|       1|\n",
      "|      a|       1|\n",
      "|     to|       1|\n",
      "+-------+--------+\n",
      "\n"
     ]
    }
   ],
   "source": [
    "df_agg.show()"
   ]
  },
  {
   "cell_type": "code",
   "execution_count": null,
   "id": "79244ac3-e6e1-4fcd-b146-833376ed4a2f",
   "metadata": {},
   "outputs": [],
   "source": []
  }
 ],
 "metadata": {
  "kernelspec": {
   "display_name": "Python 3 (ipykernel)",
   "language": "python",
   "name": "python3"
  },
  "language_info": {
   "codemirror_mode": {
    "name": "ipython",
    "version": 3
   },
   "file_extension": ".py",
   "mimetype": "text/x-python",
   "name": "python",
   "nbconvert_exporter": "python",
   "pygments_lexer": "ipython3",
   "version": "3.10.6"
  }
 },
 "nbformat": 4,
 "nbformat_minor": 5
}
